{
 "cells": [
  {
   "cell_type": "code",
   "execution_count": 1,
   "id": "d4721f7d-9c44-48ca-893f-dbe90fa6ded5",
   "metadata": {},
   "outputs": [],
   "source": [
    "%load_ext autoreload\n",
    "%autoreload 2\n",
    "\n",
    "import numpy as np\n",
    "import pandas as pd\n",
    "import sys\n",
    "import os\n",
    "import collections\n",
    "from tqdm import tqdm\n",
    "HERE = %pwd\n",
    "sys.path.append(os.path.dirname(HERE))\n",
    "\n",
    "%matplotlib inline\n",
    "import matplotlib.pyplot as plt\n",
    "import copy\n",
    "\n",
    "import pickle\n",
    "import time"
   ]
  },
  {
   "cell_type": "code",
   "execution_count": 2,
   "id": "1ec104f9-0a8b-4c4c-ac9c-6ea026e2317d",
   "metadata": {},
   "outputs": [],
   "source": [
    "# functions\n",
    "from src import utils, main, post_process"
   ]
  },
  {
   "cell_type": "code",
   "execution_count": 3,
   "id": "7acaad41-09e0-40a8-b14f-b9e6a1f79711",
   "metadata": {},
   "outputs": [],
   "source": [
    "# preprocessed directory\n",
    "version_infer = \"20250418_infer\"\n",
    "version_input = \"20250403_input\"\n",
    "version_prep = \"20250403_prep\"\n",
    "n_user = 200  \n",
    "\n",
    "n_user_exp = 10\n",
    "\n",
    "# LLM names\n",
    "d_model = {\n",
    "    \"gpt-4.1-mini-2025-04-14\" : \"gpt-4.1-mini\",\n",
    "    \"llama3-3-70b-instruct-v1\" : \"llama3.3-70b\", \n",
    "    \"gpt-4o-mini-2024-07-18\" : \"gpt-4o-mini\", \n",
    "    \"phi4\" : \"phi4\",\n",
    "    \"nova-lite-v1\" : \"amazon-nova-lite\"\n",
    "}\n",
    "model_names = list(d_model.keys())\n",
    "model_names_short = list(d_model.values())\n",
    "\n",
    "# data names\n",
    "data_names = [\"Yelp\", \"MIND\", \"Food\"] + [f\"Amazon_{a}\" for a in [\"Movie\", \"Music\", \"Grocery\", \"Clothes\", \"Book\"]]\n",
    "\n",
    "# prompt names\n",
    "L = [\"Rephrase\", \"StepBack\", \"ReAct\"]\n",
    "T = [\"Rephrase_ReAct\", \"Rephrase_StepBack\"]\n",
    "for a in L:\n",
    "    t = f\"SelfRefine_{a}\"\n",
    "    T.append(t)    \n",
    "\n",
    "for a in L:\n",
    "    t = f\"SelfConsistency_{a}\"\n",
    "    T.append(t)    \n",
    "\n",
    "types_prompt = [\n",
    "    f\"ItemAll_Method{b}\" for b in [\"Baseline\"] + L + [f\"Combo_{t}\" for t in T]\n",
    "]\n",
    "\n",
    "# user types\n",
    "exp_names = [\"light\", \"heavy\"]\n",
    "\n",
    "# nDCG@k, Hit@k\n",
    "k = 3\n",
    "\n",
    "# set random seed\n",
    "utils.set_seed()"
   ]
  },
  {
   "cell_type": "code",
   "execution_count": 4,
   "id": "836c3900-0025-469b-8131-62dfbba62686",
   "metadata": {},
   "outputs": [
    {
     "name": "stdout",
     "output_type": "stream",
     "text": [
      "gpt-4.1-mini-2025-04-14\n"
     ]
    },
    {
     "name": "stderr",
     "output_type": "stream",
     "text": [
      "100%|██████████████████████████████████████████████████████████████████████| 8/8 [00:03<00:00,  2.02it/s]\n"
     ]
    },
    {
     "name": "stdout",
     "output_type": "stream",
     "text": [
      "finished\n",
      "llama3-3-70b-instruct-v1\n"
     ]
    },
    {
     "name": "stderr",
     "output_type": "stream",
     "text": [
      "100%|██████████████████████████████████████████████████████████████████████| 8/8 [00:04<00:00,  1.95it/s]\n"
     ]
    },
    {
     "name": "stdout",
     "output_type": "stream",
     "text": [
      "finished\n",
      "gpt-4o-mini-2024-07-18\n"
     ]
    },
    {
     "name": "stderr",
     "output_type": "stream",
     "text": [
      "100%|██████████████████████████████████████████████████████████████████████| 8/8 [00:03<00:00,  2.18it/s]\n"
     ]
    },
    {
     "name": "stdout",
     "output_type": "stream",
     "text": [
      "finished\n",
      "phi4\n"
     ]
    },
    {
     "name": "stderr",
     "output_type": "stream",
     "text": [
      "100%|██████████████████████████████████████████████████████████████████████| 8/8 [00:08<00:00,  1.06s/it]\n"
     ]
    },
    {
     "name": "stdout",
     "output_type": "stream",
     "text": [
      "finished\n",
      "nova-lite-v1\n"
     ]
    },
    {
     "name": "stderr",
     "output_type": "stream",
     "text": [
      "100%|██████████████████████████████████████████████████████████████████████| 8/8 [00:04<00:00,  1.98it/s]"
     ]
    },
    {
     "name": "stdout",
     "output_type": "stream",
     "text": [
      "finished\n"
     ]
    },
    {
     "name": "stderr",
     "output_type": "stream",
     "text": [
      "\n"
     ]
    }
   ],
   "source": [
    "# load computed data if exists; run otherwise\n",
    "ds = dict()\n",
    "dc = dict()\n",
    "\n",
    "for model_name, model_name_short in d_model.items():\n",
    "    print(model_name)\n",
    "    llm = utils.load_llm(model_name)\n",
    "    \n",
    "    dict_res, df_cost = main.run(\n",
    "        llm=llm, data_names=data_names, types_prompt=types_prompt, exp_names=exp_names, k=k,\n",
    "        model_name=model_name, version_infer=version_infer, \n",
    "        n_user=n_user, version_input=version_input, version_prep=version_prep, n_user_exp=n_user_exp\n",
    "    )\n",
    "    \n",
    "    ds[model_name_short] = dict_res\n",
    "    dc[model_name_short] = df_cost"
   ]
  },
  {
   "cell_type": "code",
   "execution_count": null,
   "id": "696df90a-830c-44cb-8751-ed50c6e62bb3",
   "metadata": {},
   "outputs": [],
   "source": []
  },
  {
   "cell_type": "code",
   "execution_count": 5,
   "id": "615117e2-9c3c-483d-92cf-edfc1fe7c202",
   "metadata": {},
   "outputs": [],
   "source": [
    "# select mode\n",
    "# - \"latex\" will give all table info in latex format\n",
    "# - \"view\" will give all table info in pandas dataframe html style\n",
    "presentation = [\"latex\", \"view\"][1]"
   ]
  },
  {
   "cell_type": "markdown",
   "id": "0e1dc64b-e68a-4e97-8edc-3ae1a0d1e629",
   "metadata": {},
   "source": [
    "# Section 5.1\n",
    "## Table 11"
   ]
  },
  {
   "cell_type": "code",
   "execution_count": 6,
   "id": "950772bb-ef48-4639-a32b-3f8ea49ddb27",
   "metadata": {},
   "outputs": [
    {
     "data": {
      "text/html": [
       "<div>\n",
       "<style scoped>\n",
       "    .dataframe tbody tr th:only-of-type {\n",
       "        vertical-align: middle;\n",
       "    }\n",
       "\n",
       "    .dataframe tbody tr th {\n",
       "        vertical-align: top;\n",
       "    }\n",
       "\n",
       "    .dataframe thead th {\n",
       "        text-align: right;\n",
       "    }\n",
       "</style>\n",
       "<table border=\"1\" class=\"dataframe\">\n",
       "  <thead>\n",
       "    <tr style=\"text-align: right;\">\n",
       "      <th></th>\n",
       "      <th>gpt-4.1-mini</th>\n",
       "      <th>llama3.3-70b</th>\n",
       "      <th>gpt-4o-mini</th>\n",
       "      <th>phi4</th>\n",
       "      <th>amazon-nova-lite</th>\n",
       "    </tr>\n",
       "  </thead>\n",
       "  <tbody>\n",
       "    <tr>\n",
       "      <th>Rephrase</th>\n",
       "      <td>0.550</td>\n",
       "      <td>0.548</td>\n",
       "      <td>0.479</td>\n",
       "      <td>0.487</td>\n",
       "      <td>0.364</td>\n",
       "    </tr>\n",
       "    <tr>\n",
       "      <th>ReAct</th>\n",
       "      <td>0.547</td>\n",
       "      <td>0.533</td>\n",
       "      <td>0.407</td>\n",
       "      <td>0.407</td>\n",
       "      <td>0.367</td>\n",
       "    </tr>\n",
       "    <tr>\n",
       "      <th>SC (ReAct)</th>\n",
       "      <td>0.535</td>\n",
       "      <td>0.537</td>\n",
       "      <td>0.389</td>\n",
       "      <td>0.402</td>\n",
       "      <td>0.441</td>\n",
       "    </tr>\n",
       "    <tr>\n",
       "      <th>SC (Step-Back)</th>\n",
       "      <td>0.543</td>\n",
       "      <td>0.518</td>\n",
       "      <td>0.454</td>\n",
       "      <td>0.427</td>\n",
       "      <td>0.369</td>\n",
       "    </tr>\n",
       "    <tr>\n",
       "      <th>Step-Back</th>\n",
       "      <td>0.516</td>\n",
       "      <td>0.543</td>\n",
       "      <td>0.444</td>\n",
       "      <td>0.439</td>\n",
       "      <td>0.359</td>\n",
       "    </tr>\n",
       "    <tr>\n",
       "      <th>SC (Rephrase)</th>\n",
       "      <td>0.522</td>\n",
       "      <td>0.536</td>\n",
       "      <td>0.468</td>\n",
       "      <td>0.460</td>\n",
       "      <td>0.397</td>\n",
       "    </tr>\n",
       "    <tr>\n",
       "      <th>SR (ReAct)</th>\n",
       "      <td>0.540</td>\n",
       "      <td>0.516</td>\n",
       "      <td>0.378</td>\n",
       "      <td>0.369</td>\n",
       "      <td>0.407</td>\n",
       "    </tr>\n",
       "    <tr>\n",
       "      <th>SR (Rephrase)</th>\n",
       "      <td>0.514</td>\n",
       "      <td>0.533</td>\n",
       "      <td>0.462</td>\n",
       "      <td>0.471</td>\n",
       "      <td>0.455</td>\n",
       "    </tr>\n",
       "    <tr>\n",
       "      <th>SR (Step-Back)</th>\n",
       "      <td>0.520</td>\n",
       "      <td>0.527</td>\n",
       "      <td>0.458</td>\n",
       "      <td>0.392</td>\n",
       "      <td>0.390</td>\n",
       "    </tr>\n",
       "    <tr>\n",
       "      <th>Rephrase$\\rightarrow$ReAct</th>\n",
       "      <td>0.534</td>\n",
       "      <td>0.506</td>\n",
       "      <td>0.376</td>\n",
       "      <td>0.472</td>\n",
       "      <td>0.402</td>\n",
       "    </tr>\n",
       "    <tr>\n",
       "      <th>Rephrase$\\rightarrow$Step-Back</th>\n",
       "      <td>0.514</td>\n",
       "      <td>0.501</td>\n",
       "      <td>0.470</td>\n",
       "      <td>0.481</td>\n",
       "      <td>0.352</td>\n",
       "    </tr>\n",
       "    <tr>\n",
       "      <th>Baseline</th>\n",
       "      <td>0.475</td>\n",
       "      <td>0.465</td>\n",
       "      <td>0.440</td>\n",
       "      <td>0.460</td>\n",
       "      <td>0.412</td>\n",
       "    </tr>\n",
       "  </tbody>\n",
       "</table>\n",
       "</div>"
      ],
      "text/plain": [
       "                                gpt-4.1-mini  llama3.3-70b  gpt-4o-mini  \\\n",
       "Rephrase                               0.550         0.548        0.479   \n",
       "ReAct                                  0.547         0.533        0.407   \n",
       "SC (ReAct)                             0.535         0.537        0.389   \n",
       "SC (Step-Back)                         0.543         0.518        0.454   \n",
       "Step-Back                              0.516         0.543        0.444   \n",
       "SC (Rephrase)                          0.522         0.536        0.468   \n",
       "SR (ReAct)                             0.540         0.516        0.378   \n",
       "SR (Rephrase)                          0.514         0.533        0.462   \n",
       "SR (Step-Back)                         0.520         0.527        0.458   \n",
       "Rephrase$\\rightarrow$ReAct             0.534         0.506        0.376   \n",
       "Rephrase$\\rightarrow$Step-Back         0.514         0.501        0.470   \n",
       "Baseline                               0.475         0.465        0.440   \n",
       "\n",
       "                                 phi4  amazon-nova-lite  \n",
       "Rephrase                        0.487             0.364  \n",
       "ReAct                           0.407             0.367  \n",
       "SC (ReAct)                      0.402             0.441  \n",
       "SC (Step-Back)                  0.427             0.369  \n",
       "Step-Back                       0.439             0.359  \n",
       "SC (Rephrase)                   0.460             0.397  \n",
       "SR (ReAct)                      0.369             0.407  \n",
       "SR (Rephrase)                   0.471             0.455  \n",
       "SR (Step-Back)                  0.392             0.390  \n",
       "Rephrase$\\rightarrow$ReAct      0.472             0.402  \n",
       "Rephrase$\\rightarrow$Step-Back  0.481             0.352  \n",
       "Baseline                        0.460             0.412  "
      ]
     },
     "metadata": {},
     "output_type": "display_data"
    }
   ],
   "source": [
    "# nDCG@3 by all model\n",
    "metric = \"nDCG\"\n",
    "k = 3\n",
    "d_ = dict()\n",
    "for model_name in model_names_short:\n",
    "    dict_res = ds[model_name]\n",
    "    df_res = pd.concat(dict_res[f\"{metric}@{k}\"].values())\n",
    "    df = post_process.convert_stat_table_with_latex(df_res, l_select=[])\n",
    "    df_ = df[[\"tex\", \"score\"]]\n",
    "    d_[model_name] = df_\n",
    "\n",
    "df_model = pd.DataFrame({model_name : df_[\"tex\"] for model_name, df_ in d_.items()})\n",
    "\n",
    "# sort prompts by mean accuracy\n",
    "df = pd.DataFrame({model_name : df_[\"score\"] for model_name, df_ in d_.items()})\n",
    "df = df[[\"gpt-4.1-mini\", \"llama3.3-70b\"]]\n",
    "s_avg = df.T.mean().sort_values(ascending=False)\n",
    "df_model = df_model.loc[s_avg.index]\n",
    "df_model.index = [i.replace(\"SelfRefine\", \"SR\").replace(\"SelfConsistency\", \"SC\") for i in df_model.index]\n",
    "\n",
    "if presentation == \"latex\":\n",
    "    print(df_model.to_latex(escape=False))\n",
    "else:\n",
    "    df_model = pd.DataFrame({model_name : df_[\"score\"] for model_name, df_ in d_.items()})\n",
    "    df_model = df_model.loc[s_avg.index]\n",
    "    df_model.index = [i.replace(\"SelfRefine\", \"SR\").replace(\"SelfConsistency\", \"SC\") for i in df_model.index] \n",
    "    display(df_model.astype(float).round(3))"
   ]
  },
  {
   "cell_type": "code",
   "execution_count": null,
   "id": "8338d7d5-e524-4e5d-8352-dbea0707027e",
   "metadata": {},
   "outputs": [],
   "source": []
  },
  {
   "cell_type": "code",
   "execution_count": 7,
   "id": "625e9d02-5de4-4849-a22a-2adb9d48d109",
   "metadata": {},
   "outputs": [
    {
     "name": "stderr",
     "output_type": "stream",
     "text": [
      "100%|██████████████████████████████████████████████████████████████████████| 3/3 [00:01<00:00,  2.59it/s]\n"
     ]
    },
    {
     "data": {
      "text/html": [
       "<div>\n",
       "<style scoped>\n",
       "    .dataframe tbody tr th:only-of-type {\n",
       "        vertical-align: middle;\n",
       "    }\n",
       "\n",
       "    .dataframe tbody tr th {\n",
       "        vertical-align: top;\n",
       "    }\n",
       "\n",
       "    .dataframe thead th {\n",
       "        text-align: right;\n",
       "    }\n",
       "</style>\n",
       "<table border=\"1\" class=\"dataframe\">\n",
       "  <thead>\n",
       "    <tr style=\"text-align: right;\">\n",
       "      <th></th>\n",
       "      <th>Positive</th>\n",
       "      <th>Negative</th>\n",
       "    </tr>\n",
       "  </thead>\n",
       "  <tbody>\n",
       "    <tr>\n",
       "      <th>Heavy</th>\n",
       "      <td>Rephrase$\\rightarrow$ReAct</td>\n",
       "      <td></td>\n",
       "    </tr>\n",
       "    <tr>\n",
       "      <th>Light</th>\n",
       "      <td>ReAct, SelfConsistency (Step-Back), SelfRefine...</td>\n",
       "      <td></td>\n",
       "    </tr>\n",
       "    <tr>\n",
       "      <th>ALL</th>\n",
       "      <td>ReAct, Rephrase, SelfConsistency (Step-Back), ...</td>\n",
       "      <td></td>\n",
       "    </tr>\n",
       "  </tbody>\n",
       "</table>\n",
       "</div>"
      ],
      "text/plain": [
       "                                                Positive Negative\n",
       "Heavy                         Rephrase$\\rightarrow$ReAct         \n",
       "Light  ReAct, SelfConsistency (Step-Back), SelfRefine...         \n",
       "ALL    ReAct, Rephrase, SelfConsistency (Step-Back), ...         "
      ]
     },
     "metadata": {},
     "output_type": "display_data"
    }
   ],
   "source": [
    "# [unused] LMEM\n",
    "df_long_all = post_process.convert_long_table(ds, k=k, metrics=[\"nDCG\", \"Hit\"])\n",
    "\n",
    "d_lmem = dict()\n",
    "for data_name in tqdm([\"Heavy\", \"Light\", \"_\"]):\n",
    "    df_ = df_long_all.copy()\n",
    "    df_long = df_.iloc[[\n",
    "        i for i, u in df_[\"user\"].to_dict().items() \n",
    "        if data_name in u.split(\"__DataName\")[1]\n",
    "    ]]\n",
    "    s_pos, s_neg = post_process.lmem(df_long)\n",
    "    \n",
    "    if data_name == \"_\":\n",
    "        data_name = \"ALL\"\n",
    "    \n",
    "    d_lmem[data_name] = {\n",
    "        \"pos\" : s_pos, \n",
    "        \"neg\" : s_neg\n",
    "    }\n",
    "\n",
    "d_pos = {data_name : \", \".join(d[\"pos\"].index.values) for data_name, d in d_lmem.items()}\n",
    "d_neg = {data_name : \", \".join(d[\"neg\"].index.values) for data_name, d in d_lmem.items()}\n",
    "df = pd.concat([pd.Series(d_pos), pd.Series(d_neg)], axis=1)\n",
    "df.columns = [\"Positive\", \"Negative\"]\n",
    "\n",
    "if presentation == \"latex\":\n",
    "    print(df.to_latex(escape=False))\n",
    "else:\n",
    "    display(df)"
   ]
  },
  {
   "cell_type": "code",
   "execution_count": null,
   "id": "4e855339-ca4f-4e71-906d-152d56889607",
   "metadata": {},
   "outputs": [],
   "source": []
  },
  {
   "cell_type": "code",
   "execution_count": null,
   "id": "226fc90a-4db1-4c6c-8edd-698521313abb",
   "metadata": {},
   "outputs": [],
   "source": []
  },
  {
   "cell_type": "code",
   "execution_count": null,
   "id": "077d0148-621d-4c6c-9df3-51c167431aba",
   "metadata": {},
   "outputs": [],
   "source": []
  }
 ],
 "metadata": {
  "kernelspec": {
   "display_name": "Python 3 (ipykernel)",
   "language": "python",
   "name": "python3"
  },
  "language_info": {
   "codemirror_mode": {
    "name": "ipython",
    "version": 3
   },
   "file_extension": ".py",
   "mimetype": "text/x-python",
   "name": "python",
   "nbconvert_exporter": "python",
   "pygments_lexer": "ipython3",
   "version": "3.10.11"
  }
 },
 "nbformat": 4,
 "nbformat_minor": 5
}
